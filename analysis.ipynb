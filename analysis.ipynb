{
 "cells": [
  {
   "cell_type": "markdown",
   "id": "907dabc0-3c08-479b-9001-a27b7d19df4f",
   "metadata": {},
   "source": [
    "Attempt to solve the problem in 2 stages. First, try to determine if this is a whale we've seen before. Secondly for each whale we have seen before, match the tail to an id."
   ]
  },
  {
   "cell_type": "markdown",
   "id": "6937f59b-8987-4e4e-b1eb-8f0c42e2c7fb",
   "metadata": {},
   "source": [
    "# Pre-trained model"
   ]
  },
  {
   "cell_type": "code",
   "execution_count": 1,
   "id": "15ecd115-96d7-42f4-b349-4510980cafa5",
   "metadata": {},
   "outputs": [
    {
     "name": "stdout",
     "output_type": "stream",
     "text": [
      "Model: \"vgg16\"\n",
      "_________________________________________________________________\n",
      "Layer (type)                 Output Shape              Param #   \n",
      "=================================================================\n",
      "input_1 (InputLayer)         [(None, 224, 224, 3)]     0         \n",
      "_________________________________________________________________\n",
      "block1_conv1 (Conv2D)        (None, 224, 224, 64)      1792      \n",
      "_________________________________________________________________\n",
      "block1_conv2 (Conv2D)        (None, 224, 224, 64)      36928     \n",
      "_________________________________________________________________\n",
      "block1_pool (MaxPooling2D)   (None, 112, 112, 64)      0         \n",
      "_________________________________________________________________\n",
      "block2_conv1 (Conv2D)        (None, 112, 112, 128)     73856     \n",
      "_________________________________________________________________\n",
      "block2_conv2 (Conv2D)        (None, 112, 112, 128)     147584    \n",
      "_________________________________________________________________\n",
      "block2_pool (MaxPooling2D)   (None, 56, 56, 128)       0         \n",
      "_________________________________________________________________\n",
      "block3_conv1 (Conv2D)        (None, 56, 56, 256)       295168    \n",
      "_________________________________________________________________\n",
      "block3_conv2 (Conv2D)        (None, 56, 56, 256)       590080    \n",
      "_________________________________________________________________\n",
      "block3_conv3 (Conv2D)        (None, 56, 56, 256)       590080    \n",
      "_________________________________________________________________\n",
      "block3_pool (MaxPooling2D)   (None, 28, 28, 256)       0         \n",
      "_________________________________________________________________\n",
      "block4_conv1 (Conv2D)        (None, 28, 28, 512)       1180160   \n",
      "_________________________________________________________________\n",
      "block4_conv2 (Conv2D)        (None, 28, 28, 512)       2359808   \n",
      "_________________________________________________________________\n",
      "block4_conv3 (Conv2D)        (None, 28, 28, 512)       2359808   \n",
      "_________________________________________________________________\n",
      "block4_pool (MaxPooling2D)   (None, 14, 14, 512)       0         \n",
      "_________________________________________________________________\n",
      "block5_conv1 (Conv2D)        (None, 14, 14, 512)       2359808   \n",
      "_________________________________________________________________\n",
      "block5_conv2 (Conv2D)        (None, 14, 14, 512)       2359808   \n",
      "_________________________________________________________________\n",
      "block5_conv3 (Conv2D)        (None, 14, 14, 512)       2359808   \n",
      "_________________________________________________________________\n",
      "block5_pool (MaxPooling2D)   (None, 7, 7, 512)         0         \n",
      "=================================================================\n",
      "Total params: 14,714,688\n",
      "Trainable params: 14,714,688\n",
      "Non-trainable params: 0\n",
      "_________________________________________________________________\n"
     ]
    }
   ],
   "source": [
    "from tensorflow import keras\n",
    "import os\n",
    "\n",
    "base_model = keras.applications.VGG16(\n",
    "    weights='imagenet',\n",
    "    input_shape=(224, 224, 3),\n",
    "    include_top=False)\n",
    "\n",
    "base_model.summary()"
   ]
  },
  {
   "cell_type": "code",
   "execution_count": 2,
   "id": "6df1c5c0-726c-42f8-846b-ab4253456f8e",
   "metadata": {},
   "outputs": [],
   "source": [
    "base_model.trainable = False"
   ]
  },
  {
   "cell_type": "markdown",
   "id": "4afca5e6-b42d-4928-adc1-5523210237f0",
   "metadata": {},
   "source": [
    "# Add new layers"
   ]
  },
  {
   "cell_type": "code",
   "execution_count": 3,
   "id": "5de347c5-a534-4823-ae27-eb4dd680a953",
   "metadata": {},
   "outputs": [
    {
     "data": {
      "text/html": [
       "<div>\n",
       "<style scoped>\n",
       "    .dataframe tbody tr th:only-of-type {\n",
       "        vertical-align: middle;\n",
       "    }\n",
       "\n",
       "    .dataframe tbody tr th {\n",
       "        vertical-align: top;\n",
       "    }\n",
       "\n",
       "    .dataframe thead th {\n",
       "        text-align: right;\n",
       "    }\n",
       "</style>\n",
       "<table border=\"1\" class=\"dataframe\">\n",
       "  <thead>\n",
       "    <tr style=\"text-align: right;\">\n",
       "      <th></th>\n",
       "      <th>Image</th>\n",
       "      <th>Id</th>\n",
       "      <th>is_new</th>\n",
       "    </tr>\n",
       "  </thead>\n",
       "  <tbody>\n",
       "    <tr>\n",
       "      <th>0</th>\n",
       "      <td>0000e88ab.jpg</td>\n",
       "      <td>w_f48451c</td>\n",
       "      <td>existing</td>\n",
       "    </tr>\n",
       "    <tr>\n",
       "      <th>1</th>\n",
       "      <td>0001f9222.jpg</td>\n",
       "      <td>w_c3d896a</td>\n",
       "      <td>existing</td>\n",
       "    </tr>\n",
       "    <tr>\n",
       "      <th>2</th>\n",
       "      <td>00029d126.jpg</td>\n",
       "      <td>w_20df2c5</td>\n",
       "      <td>existing</td>\n",
       "    </tr>\n",
       "    <tr>\n",
       "      <th>3</th>\n",
       "      <td>00050a15a.jpg</td>\n",
       "      <td>new_whale</td>\n",
       "      <td>new</td>\n",
       "    </tr>\n",
       "    <tr>\n",
       "      <th>4</th>\n",
       "      <td>0005c1ef8.jpg</td>\n",
       "      <td>new_whale</td>\n",
       "      <td>new</td>\n",
       "    </tr>\n",
       "  </tbody>\n",
       "</table>\n",
       "</div>"
      ],
      "text/plain": [
       "           Image         Id    is_new\n",
       "0  0000e88ab.jpg  w_f48451c  existing\n",
       "1  0001f9222.jpg  w_c3d896a  existing\n",
       "2  00029d126.jpg  w_20df2c5  existing\n",
       "3  00050a15a.jpg  new_whale       new\n",
       "4  0005c1ef8.jpg  new_whale       new"
      ]
     },
     "execution_count": 3,
     "metadata": {},
     "output_type": "execute_result"
    }
   ],
   "source": [
    "import numpy as np\n",
    "import pandas as pd\n",
    "\n",
    "train_map_df = pd.read_csv(os.path.join(\"data\", \"train.csv\"))\n",
    "train_map_df['Id'] = train_map_df['Id'].astype('category')\n",
    "train_map_df['is_new'] = np.where(train_map_df['Id'] == 'new_whale', 'new', 'existing')\n",
    "train_map_df.head()"
   ]
  },
  {
   "cell_type": "code",
   "execution_count": 4,
   "id": "2c9195d4-c56d-4f37-97ba-5f60d7745de5",
   "metadata": {},
   "outputs": [],
   "source": [
    "inputs = keras.Input(shape=(224, 224, 3))\n",
    "x = base_model(inputs, training=False)\n",
    "x = keras.layers.GlobalAveragePooling2D()(x)\n",
    "outputs = keras.layers.Dense(1)(x) # A Dense classifier with a class for new/existing\n",
    "model = keras.Model(inputs, outputs)"
   ]
  },
  {
   "cell_type": "code",
   "execution_count": 5,
   "id": "14188bf3-7d29-448c-90d5-71e8107662fe",
   "metadata": {},
   "outputs": [
    {
     "name": "stdout",
     "output_type": "stream",
     "text": [
      "Model: \"functional_1\"\n",
      "_________________________________________________________________\n",
      "Layer (type)                 Output Shape              Param #   \n",
      "=================================================================\n",
      "input_2 (InputLayer)         [(None, 224, 224, 3)]     0         \n",
      "_________________________________________________________________\n",
      "vgg16 (Functional)           (None, 7, 7, 512)         14714688  \n",
      "_________________________________________________________________\n",
      "global_average_pooling2d (Gl (None, 512)               0         \n",
      "_________________________________________________________________\n",
      "dense (Dense)                (None, 1)                 513       \n",
      "=================================================================\n",
      "Total params: 14,715,201\n",
      "Trainable params: 513\n",
      "Non-trainable params: 14,714,688\n",
      "_________________________________________________________________\n"
     ]
    }
   ],
   "source": [
    "model.summary()"
   ]
  },
  {
   "cell_type": "markdown",
   "id": "b6120f82-73a6-436e-897e-2c06ea216b38",
   "metadata": {},
   "source": [
    "# Compiling Model"
   ]
  },
  {
   "cell_type": "code",
   "execution_count": 6,
   "id": "8902e845-5436-4151-92cf-af5fb69c5b73",
   "metadata": {},
   "outputs": [],
   "source": [
    "# we have a binary problem (either new or not new)\n",
    "model.compile(loss=keras.losses.BinaryCrossentropy(from_logits=True), metrics=[keras.metrics.BinaryAccuracy()])"
   ]
  },
  {
   "cell_type": "markdown",
   "id": "bfbcec5d-4682-4f04-a256-5d89088db3b8",
   "metadata": {},
   "source": [
    "# Augment the Data"
   ]
  },
  {
   "cell_type": "code",
   "execution_count": 7,
   "id": "36fa14f1-fd00-42c1-9b67-0d718184ccd3",
   "metadata": {},
   "outputs": [],
   "source": [
    "from tensorflow.keras.preprocessing.image import ImageDataGenerator\n",
    "\n",
    "datagen = ImageDataGenerator(\n",
    "        samplewise_center=True,  # set each sample mean to 0\n",
    "        rotation_range=10,  # randomly rotate images in the range (degrees, 0 to 180)\n",
    "        zoom_range = 0.2, # Randomly zoom image \n",
    "        width_shift_range=0.2,  # randomly shift images horizontally (fraction of total width)\n",
    "        height_shift_range=0.2,  # randomly shift images vertically (fraction of total height)\n",
    "        horizontal_flip=True,\n",
    "        vertical_flip=False,\n",
    "        validation_split=0.2)  # 80/20 split train/test"
   ]
  },
  {
   "cell_type": "code",
   "execution_count": 8,
   "id": "a9f288d0-b3a5-48ac-980b-9f939e84ed5a",
   "metadata": {},
   "outputs": [
    {
     "name": "stdout",
     "output_type": "stream",
     "text": [
      "Found 20289 validated image filenames belonging to 2 classes.\n",
      "Found 5072 validated image filenames belonging to 2 classes.\n"
     ]
    }
   ],
   "source": [
    "train_it = datagen.flow_from_dataframe(train_map_df,\n",
    "                                       directory=os.path.join('data', 'train'), \n",
    "                                       x_col='Image',\n",
    "                                       y_col='is_new',\n",
    "                                       target_size=(224, 224), \n",
    "                                       color_mode='rgb', \n",
    "                                       class_mode='binary', \n",
    "                                       batch_size=8,\n",
    "                                       subset='training')\n",
    "valid_it = datagen.flow_from_dataframe(train_map_df,\n",
    "                                       directory=os.path.join('data', 'train'), \n",
    "                                       x_col='Image',\n",
    "                                       y_col='is_new',\n",
    "                                       target_size=(224, 224), \n",
    "                                       color_mode='rgb', \n",
    "                                       class_mode='binary', \n",
    "                                       batch_size=8,\n",
    "                                       subset='validation')"
   ]
  },
  {
   "cell_type": "code",
   "execution_count": 9,
   "id": "41e384ab-26f0-4e4c-badd-8601ee491696",
   "metadata": {},
   "outputs": [
    {
     "name": "stdout",
     "output_type": "stream",
     "text": [
      "Epoch 1/20\n",
      "12/12 [==============================] - 12s 1s/step - loss: 1.2056 - binary_accuracy: 0.6354 - val_loss: 1.2087 - val_binary_accuracy: 0.5312\n",
      "Epoch 2/20\n",
      "12/12 [==============================] - 17s 1s/step - loss: 1.1791 - binary_accuracy: 0.6146 - val_loss: 0.9781 - val_binary_accuracy: 0.6875\n",
      "Epoch 3/20\n",
      "12/12 [==============================] - 19s 2s/step - loss: 1.4556 - binary_accuracy: 0.5417 - val_loss: 1.2613 - val_binary_accuracy: 0.5312\n",
      "Epoch 4/20\n",
      "12/12 [==============================] - 20s 2s/step - loss: 1.1968 - binary_accuracy: 0.5938 - val_loss: 1.2526 - val_binary_accuracy: 0.6250\n",
      "Epoch 5/20\n",
      "12/12 [==============================] - 19s 2s/step - loss: 1.4579 - binary_accuracy: 0.6042 - val_loss: 0.9270 - val_binary_accuracy: 0.6250\n",
      "Epoch 6/20\n",
      "12/12 [==============================] - 19s 2s/step - loss: 1.0840 - binary_accuracy: 0.6250 - val_loss: 0.5057 - val_binary_accuracy: 0.8125\n",
      "Epoch 7/20\n",
      "12/12 [==============================] - 14s 1s/step - loss: 0.9570 - binary_accuracy: 0.6458 - val_loss: 1.3339 - val_binary_accuracy: 0.5625\n",
      "Epoch 8/20\n",
      "12/12 [==============================] - 13s 1s/step - loss: 1.0750 - binary_accuracy: 0.6458 - val_loss: 1.3002 - val_binary_accuracy: 0.6250\n",
      "Epoch 9/20\n",
      "12/12 [==============================] - 13s 1s/step - loss: 1.1760 - binary_accuracy: 0.6458 - val_loss: 1.3504 - val_binary_accuracy: 0.5312\n",
      "Epoch 10/20\n",
      "12/12 [==============================] - 13s 1s/step - loss: 0.7410 - binary_accuracy: 0.6979 - val_loss: 0.8368 - val_binary_accuracy: 0.6875\n",
      "Epoch 11/20\n",
      "12/12 [==============================] - 15s 1s/step - loss: 1.0766 - binary_accuracy: 0.5833 - val_loss: 0.8522 - val_binary_accuracy: 0.6250\n",
      "Epoch 12/20\n",
      "12/12 [==============================] - 15s 1s/step - loss: 0.8307 - binary_accuracy: 0.6562 - val_loss: 0.7164 - val_binary_accuracy: 0.6562\n",
      "Epoch 13/20\n",
      "12/12 [==============================] - 15s 1s/step - loss: 0.9446 - binary_accuracy: 0.5938 - val_loss: 1.0524 - val_binary_accuracy: 0.4062\n",
      "Epoch 14/20\n",
      "12/12 [==============================] - 16s 1s/step - loss: 1.1408 - binary_accuracy: 0.6354 - val_loss: 1.1145 - val_binary_accuracy: 0.5312\n",
      "Epoch 15/20\n",
      "12/12 [==============================] - 17s 1s/step - loss: 0.8644 - binary_accuracy: 0.6667 - val_loss: 1.0674 - val_binary_accuracy: 0.6250\n",
      "Epoch 16/20\n",
      "12/12 [==============================] - 17s 1s/step - loss: 0.8466 - binary_accuracy: 0.7188 - val_loss: 0.9849 - val_binary_accuracy: 0.6562\n",
      "Epoch 17/20\n",
      "12/12 [==============================] - 16s 1s/step - loss: 0.8387 - binary_accuracy: 0.6875 - val_loss: 0.9991 - val_binary_accuracy: 0.5938\n",
      "Epoch 18/20\n",
      "12/12 [==============================] - 16s 1s/step - loss: 0.9441 - binary_accuracy: 0.5833 - val_loss: 0.8378 - val_binary_accuracy: 0.7188\n",
      "Epoch 19/20\n",
      "12/12 [==============================] - 16s 1s/step - loss: 1.1198 - binary_accuracy: 0.5729 - val_loss: 0.8210 - val_binary_accuracy: 0.7188\n",
      "Epoch 20/20\n",
      "12/12 [==============================] - 20s 2s/step - loss: 0.8092 - binary_accuracy: 0.6667 - val_loss: 1.0730 - val_binary_accuracy: 0.6250\n"
     ]
    },
    {
     "data": {
      "text/plain": [
       "<tensorflow.python.keras.callbacks.History at 0x1e88a3110a0>"
      ]
     },
     "execution_count": 9,
     "metadata": {},
     "output_type": "execute_result"
    }
   ],
   "source": [
    "model.fit(train_it, steps_per_epoch=12, validation_data=valid_it, validation_steps=4, epochs=20)"
   ]
  },
  {
   "cell_type": "code",
   "execution_count": 10,
   "id": "db3ebffd-ec05-42e8-807b-189a86fa85e3",
   "metadata": {},
   "outputs": [
    {
     "data": {
      "text/html": [
       "<div>\n",
       "<style scoped>\n",
       "    .dataframe tbody tr th:only-of-type {\n",
       "        vertical-align: middle;\n",
       "    }\n",
       "\n",
       "    .dataframe tbody tr th {\n",
       "        vertical-align: top;\n",
       "    }\n",
       "\n",
       "    .dataframe thead th {\n",
       "        text-align: right;\n",
       "    }\n",
       "</style>\n",
       "<table border=\"1\" class=\"dataframe\">\n",
       "  <thead>\n",
       "    <tr style=\"text-align: right;\">\n",
       "      <th></th>\n",
       "      <th>Image</th>\n",
       "      <th>Id</th>\n",
       "      <th>is_new</th>\n",
       "      <th>predicted_new</th>\n",
       "    </tr>\n",
       "  </thead>\n",
       "  <tbody>\n",
       "    <tr>\n",
       "      <th>0</th>\n",
       "      <td>0000e88ab.jpg</td>\n",
       "      <td>w_f48451c</td>\n",
       "      <td>existing</td>\n",
       "      <td>0</td>\n",
       "    </tr>\n",
       "    <tr>\n",
       "      <th>1</th>\n",
       "      <td>0001f9222.jpg</td>\n",
       "      <td>w_c3d896a</td>\n",
       "      <td>existing</td>\n",
       "      <td>0</td>\n",
       "    </tr>\n",
       "    <tr>\n",
       "      <th>2</th>\n",
       "      <td>00029d126.jpg</td>\n",
       "      <td>w_20df2c5</td>\n",
       "      <td>existing</td>\n",
       "      <td>0</td>\n",
       "    </tr>\n",
       "    <tr>\n",
       "      <th>3</th>\n",
       "      <td>00050a15a.jpg</td>\n",
       "      <td>new_whale</td>\n",
       "      <td>new</td>\n",
       "      <td>1</td>\n",
       "    </tr>\n",
       "    <tr>\n",
       "      <th>4</th>\n",
       "      <td>0005c1ef8.jpg</td>\n",
       "      <td>new_whale</td>\n",
       "      <td>new</td>\n",
       "      <td>0</td>\n",
       "    </tr>\n",
       "    <tr>\n",
       "      <th>...</th>\n",
       "      <td>...</td>\n",
       "      <td>...</td>\n",
       "      <td>...</td>\n",
       "      <td>...</td>\n",
       "    </tr>\n",
       "    <tr>\n",
       "      <th>25356</th>\n",
       "      <td>ffef89eed.jpg</td>\n",
       "      <td>w_9c506f6</td>\n",
       "      <td>existing</td>\n",
       "      <td>0</td>\n",
       "    </tr>\n",
       "    <tr>\n",
       "      <th>25357</th>\n",
       "      <td>fff7faf61.jpg</td>\n",
       "      <td>w_9cf0388</td>\n",
       "      <td>existing</td>\n",
       "      <td>0</td>\n",
       "    </tr>\n",
       "    <tr>\n",
       "      <th>25358</th>\n",
       "      <td>fff9002e0.jpg</td>\n",
       "      <td>w_bd1c3d5</td>\n",
       "      <td>existing</td>\n",
       "      <td>0</td>\n",
       "    </tr>\n",
       "    <tr>\n",
       "      <th>25359</th>\n",
       "      <td>fffcde6fe.jpg</td>\n",
       "      <td>w_9f30885</td>\n",
       "      <td>existing</td>\n",
       "      <td>0</td>\n",
       "    </tr>\n",
       "    <tr>\n",
       "      <th>25360</th>\n",
       "      <td>fffde072b.jpg</td>\n",
       "      <td>new_whale</td>\n",
       "      <td>new</td>\n",
       "      <td>0</td>\n",
       "    </tr>\n",
       "  </tbody>\n",
       "</table>\n",
       "<p>25361 rows × 4 columns</p>\n",
       "</div>"
      ],
      "text/plain": [
       "               Image         Id    is_new  predicted_new\n",
       "0      0000e88ab.jpg  w_f48451c  existing              0\n",
       "1      0001f9222.jpg  w_c3d896a  existing              0\n",
       "2      00029d126.jpg  w_20df2c5  existing              0\n",
       "3      00050a15a.jpg  new_whale       new              1\n",
       "4      0005c1ef8.jpg  new_whale       new              0\n",
       "...              ...        ...       ...            ...\n",
       "25356  ffef89eed.jpg  w_9c506f6  existing              0\n",
       "25357  fff7faf61.jpg  w_9cf0388  existing              0\n",
       "25358  fff9002e0.jpg  w_bd1c3d5  existing              0\n",
       "25359  fffcde6fe.jpg  w_9f30885  existing              0\n",
       "25360  fffde072b.jpg  new_whale       new              0\n",
       "\n",
       "[25361 rows x 4 columns]"
      ]
     },
     "execution_count": 10,
     "metadata": {},
     "output_type": "execute_result"
    }
   ],
   "source": [
    "from tensorflow.keras.preprocessing import image as image_utils\n",
    "from tensorflow.keras.applications.imagenet_utils import preprocess_input\n",
    "\n",
    "predictions = []\n",
    "\n",
    "def make_prediction(image_path):\n",
    "    image = image_utils.load_img(image_path, target_size=(224, 224))\n",
    "    image = image_utils.img_to_array(image)\n",
    "    image = image.reshape(1,224,224,3)\n",
    "    image = preprocess_input(image)\n",
    "    preds = model.predict(image)\n",
    "    return preds\n",
    "\n",
    "for id in train_map_df['Image']:\n",
    "    predictions.append(0 if make_prediction(os.path.join('data', 'train', id))[0][0] < 0 else 1)\n",
    "\n",
    "train_map_df['predicted_new'] = pd.Series(predictions)\n",
    "train_map_df"
   ]
  },
  {
   "cell_type": "markdown",
   "id": "4251686c-bfcf-418e-9ef2-a7b14572320f",
   "metadata": {},
   "source": [
    "Secondary model to id existing whales."
   ]
  },
  {
   "cell_type": "code",
   "execution_count": 12,
   "id": "6a03a652-7c34-459d-94df-4914e664dcbc",
   "metadata": {},
   "outputs": [
    {
     "name": "stdout",
     "output_type": "stream",
     "text": [
      "Found 12558 validated image filenames belonging to 5004 classes.\n",
      "Found 3139 validated image filenames belonging to 5004 classes.\n",
      "Epoch 1/20\n",
      "12/12 [==============================] - 14s 1s/step - loss: 11.0963 - categorical_accuracy: 0.0000e+00 - val_loss: 11.5492 - val_categorical_accuracy: 0.0000e+00\n",
      "Epoch 2/20\n",
      "12/12 [==============================] - 17s 1s/step - loss: 11.7758 - categorical_accuracy: 0.0000e+00 - val_loss: 11.4979 - val_categorical_accuracy: 0.0000e+00\n",
      "Epoch 3/20\n",
      "12/12 [==============================] - 20s 2s/step - loss: 11.4828 - categorical_accuracy: 0.0000e+00 - val_loss: 12.4477 - val_categorical_accuracy: 0.0000e+00\n",
      "Epoch 4/20\n",
      "12/12 [==============================] - 19s 2s/step - loss: 12.4159 - categorical_accuracy: 0.0000e+00 - val_loss: 12.2240 - val_categorical_accuracy: 0.0000e+00\n",
      "Epoch 5/20\n",
      "12/12 [==============================] - 14s 1s/step - loss: 12.2706 - categorical_accuracy: 0.0104 - val_loss: 12.7259 - val_categorical_accuracy: 0.0000e+00\n",
      "Epoch 6/20\n",
      "12/12 [==============================] - 13s 1s/step - loss: 12.5783 - categorical_accuracy: 0.0532 - val_loss: 13.2317 - val_categorical_accuracy: 0.0312\n",
      "Epoch 7/20\n",
      "12/12 [==============================] - 14s 1s/step - loss: 12.9832 - categorical_accuracy: 0.0208 - val_loss: 13.8912 - val_categorical_accuracy: 0.0000e+00\n",
      "Epoch 8/20\n",
      "12/12 [==============================] - 15s 1s/step - loss: 12.9395 - categorical_accuracy: 0.0521 - val_loss: 13.4839 - val_categorical_accuracy: 0.0000e+00\n",
      "Epoch 9/20\n",
      "12/12 [==============================] - 18s 1s/step - loss: 13.3081 - categorical_accuracy: 0.0312 - val_loss: 16.1306 - val_categorical_accuracy: 0.0000e+00\n",
      "Epoch 10/20\n",
      "12/12 [==============================] - 18s 1s/step - loss: 13.3289 - categorical_accuracy: 0.0312 - val_loss: 15.5899 - val_categorical_accuracy: 0.0000e+00\n",
      "Epoch 11/20\n",
      "12/12 [==============================] - 19s 2s/step - loss: 13.7053 - categorical_accuracy: 0.0104 - val_loss: 13.4020 - val_categorical_accuracy: 0.0312\n",
      "Epoch 12/20\n",
      "12/12 [==============================] - 22s 2s/step - loss: 13.4146 - categorical_accuracy: 0.0312 - val_loss: 15.5180 - val_categorical_accuracy: 0.0000e+00\n",
      "Epoch 13/20\n",
      "12/12 [==============================] - 24s 2s/step - loss: 14.7137 - categorical_accuracy: 0.0312 - val_loss: 14.4096 - val_categorical_accuracy: 0.0312\n",
      "Epoch 14/20\n",
      "12/12 [==============================] - 24s 2s/step - loss: 14.4370 - categorical_accuracy: 0.0521 - val_loss: 14.4336 - val_categorical_accuracy: 0.0312\n",
      "Epoch 15/20\n",
      "12/12 [==============================] - 17s 1s/step - loss: 15.3192 - categorical_accuracy: 0.0208 - val_loss: 13.9573 - val_categorical_accuracy: 0.0312\n",
      "Epoch 16/20\n",
      "12/12 [==============================] - 19s 2s/step - loss: 13.5851 - categorical_accuracy: 0.0208 - val_loss: 18.9387 - val_categorical_accuracy: 0.0000e+00\n",
      "Epoch 17/20\n",
      "12/12 [==============================] - 22s 2s/step - loss: 13.5517 - categorical_accuracy: 0.0312 - val_loss: 13.9402 - val_categorical_accuracy: 0.0312\n",
      "Epoch 18/20\n",
      "12/12 [==============================] - 24s 2s/step - loss: 15.0180 - categorical_accuracy: 0.0208 - val_loss: 16.2329 - val_categorical_accuracy: 0.0312\n",
      "Epoch 19/20\n",
      "12/12 [==============================] - 24s 2s/step - loss: 13.6135 - categorical_accuracy: 0.0625 - val_loss: 17.0134 - val_categorical_accuracy: 0.0000e+00\n",
      "Epoch 20/20\n",
      "12/12 [==============================] - 24s 2s/step - loss: 13.7910 - categorical_accuracy: 0.0833 - val_loss: 15.5075 - val_categorical_accuracy: 0.0000e+00\n"
     ]
    },
    {
     "data": {
      "text/plain": [
       "<tensorflow.python.keras.callbacks.History at 0x1e88de97940>"
      ]
     },
     "execution_count": 12,
     "metadata": {},
     "output_type": "execute_result"
    }
   ],
   "source": [
    "base_model_2 = keras.applications.VGG16(\n",
    "    weights='imagenet',\n",
    "    input_shape=(224, 224, 3),\n",
    "    include_top=False)\n",
    "\n",
    "base_model_2.trainable = False\n",
    "\n",
    "inputs_2 = keras.Input(shape=(224, 224, 3))\n",
    "x_2 = base_model(inputs_2, training=False)\n",
    "x_2 = keras.layers.GlobalAveragePooling2D()(x_2)\n",
    "outputs_2 = keras.layers.Dense(len(train_map_df['Id'].unique())-1)(x_2) # A Dense classifier with a each class from our training set excluded new_whale\n",
    "model_2 = keras.Model(inputs_2, outputs_2)\n",
    "\n",
    "# we have a categorical problem so need to use CategoricalCrossentropy and CategoricalAccuracy\n",
    "model_2.compile(loss=keras.losses.CategoricalCrossentropy(from_logits=True), metrics=[keras.metrics.CategoricalAccuracy()])\n",
    "\n",
    "datagen_2 = ImageDataGenerator(\n",
    "        samplewise_center=True,  # set each sample mean to 0\n",
    "        rotation_range=10,  # randomly rotate images in the range (degrees, 0 to 180)\n",
    "        zoom_range = 0.2, # Randomly zoom image \n",
    "        width_shift_range=0.2,  # randomly shift images horizontally (fraction of total width)\n",
    "        height_shift_range=0.2,  # randomly shift images vertically (fraction of total height)\n",
    "        horizontal_flip=True,\n",
    "        vertical_flip=False,\n",
    "        validation_split=0.2)  # 80/20 split train/test\n",
    "\n",
    "train_it_2 = datagen.flow_from_dataframe(train_map_df[train_map_df['is_new'] == 'existing'],\n",
    "                                       directory=os.path.join('data', 'train'), \n",
    "                                       x_col='Image',\n",
    "                                       y_col='Id',\n",
    "                                       target_size=(224, 224), \n",
    "                                       color_mode='rgb', \n",
    "                                       class_mode='categorical', \n",
    "                                       batch_size=8,\n",
    "                                       subset='training')\n",
    "valid_it_2 = datagen.flow_from_dataframe(train_map_df[train_map_df['is_new'] == 'existing'],\n",
    "                                       directory=os.path.join('data', 'train'), \n",
    "                                       x_col='Image',\n",
    "                                       y_col='Id',\n",
    "                                       target_size=(224, 224), \n",
    "                                       color_mode='rgb', \n",
    "                                       class_mode='categorical', \n",
    "                                       batch_size=8,\n",
    "                                       subset='validation')\n",
    "model_2.fit(train_it_2, steps_per_epoch=12, validation_data=valid_it_2, validation_steps=4, epochs=20)"
   ]
  },
  {
   "cell_type": "code",
   "execution_count": null,
   "id": "b1369cc5-fd6f-4c50-bfdc-c70616afe00b",
   "metadata": {},
   "outputs": [],
   "source": []
  }
 ],
 "metadata": {
  "kernelspec": {
   "display_name": "Python 3",
   "language": "python",
   "name": "python3"
  },
  "language_info": {
   "codemirror_mode": {
    "name": "ipython",
    "version": 3
   },
   "file_extension": ".py",
   "mimetype": "text/x-python",
   "name": "python",
   "nbconvert_exporter": "python",
   "pygments_lexer": "ipython3",
   "version": "3.8.10"
  }
 },
 "nbformat": 4,
 "nbformat_minor": 5
}
